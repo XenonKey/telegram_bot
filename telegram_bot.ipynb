{
 "cells": [
  {
   "cell_type": "code",
   "execution_count": null,
   "id": "283d6a6f",
   "metadata": {},
   "outputs": [],
   "source": [
    "import requests\n",
    "import json\n",
    "from urllib.parse import urlencode\n",
    "\n",
    "token = 'token'"
   ]
  },
  {
   "cell_type": "markdown",
   "id": "cf937e18",
   "metadata": {},
   "source": [
    "### Sending texts"
   ]
  },
  {
   "cell_type": "code",
   "execution_count": null,
   "id": "2994496f",
   "metadata": {},
   "outputs": [],
   "source": [
    "chat_id = 12345 # put chat id here\n",
    "text = 'text' # put message here\n",
    "\n",
    "params = {'chat_id': chat_id, 'text': text}\n",
    "base_url = f'https://api.telegram.org/bot{token}/'\n",
    "url = base_url + 'sendMessage?' + urlencode(params)\n",
    "resp = requests.get(url)"
   ]
  },
  {
   "cell_type": "markdown",
   "id": "09366b7f",
   "metadata": {},
   "source": [
    "### Sending documents"
   ]
  },
  {
   "cell_type": "code",
   "execution_count": null,
   "id": "14bd2ab6",
   "metadata": {
    "scrolled": true
   },
   "outputs": [],
   "source": [
    "chat_id = 12345 # put chat id here\n",
    "filepath = 'path_to_file' # put path to file here\n",
    "\n",
    "files = {'document': open(filepath, 'rb')}\n",
    "params = {'chat_id': chat_id}\n",
    "base_url = f'https://api.telegram.org/bot{token}/'\n",
    "url = base_url + 'sendDocument?' + urlencode(params)\n",
    "resp = requests.get(url, files=files)"
   ]
  }
 ],
 "metadata": {
  "kernelspec": {
   "display_name": "Python 3 (ipykernel)",
   "language": "python",
   "name": "python3"
  },
  "language_info": {
   "codemirror_mode": {
    "name": "ipython",
    "version": 3
   },
   "file_extension": ".py",
   "mimetype": "text/x-python",
   "name": "python",
   "nbconvert_exporter": "python",
   "pygments_lexer": "ipython3",
   "version": "3.9.13"
  }
 },
 "nbformat": 4,
 "nbformat_minor": 5
}
